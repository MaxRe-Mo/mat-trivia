{
 "cells": [
  {
   "cell_type": "code",
   "execution_count": 1,
   "metadata": {},
   "outputs": [],
   "source": [
    "import os\n",
    "\n",
    "import pandas as pd"
   ]
  },
  {
   "cell_type": "code",
   "execution_count": 2,
   "metadata": {},
   "outputs": [],
   "source": [
    "df = pd.read_excel('trivia.xlsx', sheet_name='Trivia')"
   ]
  },
  {
   "cell_type": "code",
   "execution_count": 3,
   "metadata": {},
   "outputs": [],
   "source": [
    "col1 = ['Category', 'Question', 'Answer']\n",
    "col2 = [f'{x}.1' for x in col1]\n",
    "col3 = [f'{x}.2' for x in col1]\n",
    "col1_df = df[col1]\n",
    "col2_df = df[col2].rename(columns=dict(zip(col2, col1)))\n",
    "col3_df = df[col3].rename(columns=dict(zip(col3, col1)))"
   ]
  },
  {
   "cell_type": "code",
   "execution_count": 4,
   "metadata": {},
   "outputs": [],
   "source": [
    "df = pd.concat([col1_df, col2_df, col3_df])"
   ]
  },
  {
   "cell_type": "code",
   "execution_count": 5,
   "metadata": {},
   "outputs": [],
   "source": [
    "df['Category'] = (\n",
    "    df['Category']\n",
    "    .apply(str.strip)\n",
    "    .str.replace('Mathematics & Geometry', 'Mathematics')\n",
    "    .str.replace('Tech & Video Games', 'Technology & Video Games')\n",
    ")"
   ]
  },
  {
   "cell_type": "code",
   "execution_count": 6,
   "metadata": {},
   "outputs": [],
   "source": [
    "!rm -r ../trivia\n",
    "!mkdir ../trivia"
   ]
  },
  {
   "cell_type": "code",
   "execution_count": 7,
   "metadata": {},
   "outputs": [],
   "source": [
    "for category, group in df.groupby('Category'):\n",
    "    with open(os.path.join('..', 'trivia', f'{category}.txt'), 'w') as f:\n",
    "        for question in group['Question']:\n",
    "            print(question, file=f)"
   ]
  }
 ],
 "metadata": {
  "kernelspec": {
   "display_name": "Python 3",
   "language": "python",
   "name": "python3"
  },
  "language_info": {
   "codemirror_mode": {
    "name": "ipython",
    "version": 3
   },
   "file_extension": ".py",
   "mimetype": "text/x-python",
   "name": "python",
   "nbconvert_exporter": "python",
   "pygments_lexer": "ipython3",
   "version": "3.7.4"
  }
 },
 "nbformat": 4,
 "nbformat_minor": 2
}
